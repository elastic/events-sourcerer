{
 "cells": [
  {
   "cell_type": "markdown",
   "id": "ff196dda",
   "metadata": {},
   "source": [
    "[![nbviewer](https://raw.githubusercontent.com/jupyter/design/master/logos/Badges/nbviewer_badge.svg)](https://nbviewer.jupyter.org/github/elastic/geneve/blob/main/tests/reports/documents_from_queries.ipynb)\n",
    "[![Binder](https://mybinder.org/badge_logo.svg)](https://mybinder.org/v2/gh/elastic/geneve/main?labpath=tests/reports/documents_from_queries.ipynb)"
   ]
  },
  {
   "cell_type": "markdown",
   "id": "804992a3",
   "metadata": {},
   "source": [
    "# Documents generation from test queries\n",
    "\n",
    "This Jupyter Notebook captures the unit test results of documents generation from queries.\n",
    "Here you can learn what kind of queries the emitter handles and the documents it generates.\n",
    "\n",
    "To edit an input cell, just click in its gray area. To execute it, press `Ctrl+Enter`.\n",
    "\n",
    "Curious about the inner workings? Read [here](../../docs/events_generation.md).\n",
    "Need help in using a Jupyter Notebook?\n",
    "Read [here](https://jupyter-notebook.readthedocs.io/en/stable/notebook.html#structure-of-a-notebook-document)."
   ]
  },
  {
   "cell_type": "markdown",
   "id": "556eb80c",
   "metadata": {},
   "source": [
    "## Table of contents\n",
    "   1. [Preliminaries](#Preliminaries)\n",
    "   1. [Mono-branch mono-document](#Mono-branch-mono-document)\n",
    "   1. [Multi-branch mono-document](#Multi-branch-mono-document)\n",
    "   1. [Mono-branch multi-document](#Mono-branch-multi-document)\n",
    "   1. [Multi-branch multi-document](#Multi-branch-multi-document)\n",
    "   1. [Error conditions](#Error-conditions)\n",
    "   1. [Cardinality](#Cardinality)\n",
    "   1. [Any oddities?](#Any-oddities?)"
   ]
  },
  {
   "cell_type": "markdown",
   "id": "49836062",
   "metadata": {},
   "source": [
    "## Preliminaries"
   ]
  },
  {
   "cell_type": "markdown",
   "id": "d13d1673",
   "metadata": {},
   "source": [
    "This is an auxiliary cell, it prepares the environment for the rest of this notebook."
   ]
  },
  {
   "cell_type": "code",
   "execution_count": null,
   "id": "1e7c94a3",
   "metadata": {},
   "outputs": [],
   "source": [
    "import os; os.chdir('../..')  # use the repo's root as base for local modules import\n",
    "from geneve.events_emitter import SourceEvents\n",
    "from geneve.utils import load_schema\n",
    "\n",
    "# load the ECS schema\n",
    "SourceEvents.schema = load_schema('./etc/ecs-8.2.0.tar.gz', 'generated/ecs/ecs_flat.yml')\n",
    "\n",
    "def emit(query, timestamp=False, complete=True, count=1):\n",
    "    try:\n",
    "        events = SourceEvents.from_query(query).emit(timestamp=timestamp, complete=complete, count=count)\n",
    "        if complete:\n",
    "            return [[event.doc for event in branch] for branch in events]\n",
    "        else:\n",
    "            return [event.doc for event in events]\n",
    "    except Exception as e:\n",
    "        print(e)"
   ]
  },
  {
   "cell_type": "markdown",
   "id": "fc316aa0",
   "metadata": {},
   "source": [
    "## How to read the test results\n",
    "\n",
    "If you opened this as freshly generated, the output cells content comes from the unit tests run and\n",
    "you can read it as a plain test report. Such content is generated in a controlled environment and is\n",
    "meant not to change between unit tests runs.\n",
    "The notebook itself does not run in such controlled environment therefore executing these cells, even\n",
    "if unmodified, will likely lead to different results each time.\n",
    "\n",
    "On the other hand, you can experiment and modify the queries in the input cells, check the results\n",
    "and, why not?, report any interesting finding. You can also add and remove cells at will."
   ]
  },
  {
   "cell_type": "markdown",
   "id": "ff1c5127",
   "metadata": {},
   "source": [
    "## Mono-branch mono-document"
   ]
  },
  {
   "cell_type": "markdown",
   "id": "8f174c0a",
   "metadata": {},
   "source": [
    "What follows are queries that shall trigger a signal with just a single source event,\n",
    "therefore at most one document is generated for each execution."
   ]
  },
  {
   "cell_type": "code",
   "execution_count": null,
   "id": "7881e297",
   "metadata": {},
   "outputs": [
    {
     "data": {
      "text/plain": [
       "[[{}]]"
      ]
     },
     "execution_count": null,
     "metadata": {},
     "output_type": "execute_result"
    }
   ],
   "source": [
    "emit('''\n",
    "    any where true\n",
    "''')"
   ]
  },
  {
   "cell_type": "code",
   "execution_count": null,
   "id": "9841359d",
   "metadata": {},
   "outputs": [
    {
     "data": {
      "text/plain": [
       "[[{}]]"
      ]
     },
     "execution_count": null,
     "metadata": {},
     "output_type": "execute_result"
    }
   ],
   "source": [
    "emit('''\n",
    "    any where not false\n",
    "''')"
   ]
  },
  {
   "cell_type": "code",
   "execution_count": null,
   "id": "4b8b37bc",
   "metadata": {},
   "outputs": [
    {
     "data": {
      "text/plain": [
       "[[{}]]"
      ]
     },
     "execution_count": null,
     "metadata": {},
     "output_type": "execute_result"
    }
   ],
   "source": [
    "emit('''\n",
    "    any where not (true and false)\n",
    "''')"
   ]
  },
  {
   "cell_type": "code",
   "execution_count": null,
   "id": "c62cc6bf",
   "metadata": {},
   "outputs": [
    {
     "data": {
      "text/plain": [
       "[[{}]]"
      ]
     },
     "execution_count": null,
     "metadata": {},
     "output_type": "execute_result"
    }
   ],
   "source": [
    "emit('''\n",
    "    any where not (false or false)\n",
    "''')"
   ]
  },
  {
   "cell_type": "code",
   "execution_count": null,
   "id": "3ac78c78",
   "metadata": {},
   "outputs": [
    {
     "data": {
      "text/plain": [
       "[[{'event': {'category': ['network']}, 'source': {'port': 794}}]]"
      ]
     },
     "execution_count": null,
     "metadata": {},
     "output_type": "execute_result"
    }
   ],
   "source": [
    "emit('''\n",
    "    network where source.port > 512 and source.port < 1024\n",
    "''')"
   ]
  },
  {
   "cell_type": "code",
   "execution_count": null,
   "id": "4a22ff68",
   "metadata": {},
   "outputs": [
    {
     "data": {
      "text/plain": [
       "[[{'event': {'category': ['network']}, 'source': {'port': 1021}}]]"
      ]
     },
     "execution_count": null,
     "metadata": {},
     "output_type": "execute_result"
    }
   ],
   "source": [
    "emit('''\n",
    "    network where not (source.port < 512 or source.port > 1024)\n",
    "''')"
   ]
  },
  {
   "cell_type": "code",
   "execution_count": null,
   "id": "52ffd960",
   "metadata": {},
   "outputs": [
    {
     "data": {
      "text/plain": [
       "[[{'event': {'category': ['network']}, 'destination': {'port': 7564}}]]"
      ]
     },
     "execution_count": null,
     "metadata": {},
     "output_type": "execute_result"
    }
   ],
   "source": [
    "emit('''\n",
    "    network where destination.port not in (80, 443)\n",
    "''')"
   ]
  },
  {
   "cell_type": "code",
   "execution_count": null,
   "id": "f8d91dbe",
   "metadata": {},
   "outputs": [
    {
     "data": {
      "text/plain": [
       "[[{'event': {'category': ['network']}, 'destination': {'port': 246}}]]"
      ]
     },
     "execution_count": null,
     "metadata": {},
     "output_type": "execute_result"
    }
   ],
   "source": [
    "emit('''\n",
    "    network where not destination.port in (80, 443)\n",
    "''')"
   ]
  },
  {
   "cell_type": "code",
   "execution_count": null,
   "id": "ba7d1d62",
   "metadata": {},
   "outputs": [
    {
     "data": {
      "text/plain": [
       "[[{'event': {'category': ['network']}, 'destination': {'port': 25}}]]"
      ]
     },
     "execution_count": null,
     "metadata": {},
     "output_type": "execute_result"
    }
   ],
   "source": [
    "emit('''\n",
    "    network where destination.port == 22 and destination.port in (80, 443) or destination.port == 25\n",
    "''')"
   ]
  },
  {
   "cell_type": "code",
   "execution_count": null,
   "id": "ffa71ec0",
   "metadata": {},
   "outputs": [
    {
     "data": {
      "text/plain": [
       "[[{'event': {'category': ['process']}, 'process': {'name': 'regsvr32.exe'}}]]"
      ]
     },
     "execution_count": null,
     "metadata": {},
     "output_type": "execute_result"
    }
   ],
   "source": [
    "emit('''\n",
    "    process where process.name == \"regsvr32.exe\"\n",
    "''')"
   ]
  },
  {
   "cell_type": "code",
   "execution_count": null,
   "id": "3d40a64f",
   "metadata": {},
   "outputs": [
    {
     "data": {
      "text/plain": [
       "[[{'event': {'category': ['process']}, 'process': {'name': 'Bmc'}}]]"
      ]
     },
     "execution_count": null,
     "metadata": {},
     "output_type": "execute_result"
    }
   ],
   "source": [
    "emit('''\n",
    "    process where process.name != \"regsvr32.exe\"\n",
    "''')"
   ]
  },
  {
   "cell_type": "code",
   "execution_count": null,
   "id": "892f7be0",
   "metadata": {},
   "outputs": [
    {
     "data": {
      "text/plain": [
       "[[{'event': {'category': ['process']}, 'process': {'pid': 3009213395}}]]"
      ]
     },
     "execution_count": null,
     "metadata": {},
     "output_type": "execute_result"
    }
   ],
   "source": [
    "emit('''\n",
    "    process where process.pid != 0\n",
    "''')"
   ]
  },
  {
   "cell_type": "code",
   "execution_count": null,
   "id": "f9dc98cd",
   "metadata": {},
   "outputs": [
    {
     "data": {
      "text/plain": [
       "[[{'event': {'category': ['process']}, 'process': {'pid': 1706296503}}]]"
      ]
     },
     "execution_count": null,
     "metadata": {},
     "output_type": "execute_result"
    }
   ],
   "source": [
    "emit('''\n",
    "    process where process.pid >= 0\n",
    "''')"
   ]
  },
  {
   "cell_type": "code",
   "execution_count": null,
   "id": "7481c65a",
   "metadata": {},
   "outputs": [
    {
     "data": {
      "text/plain": [
       "[[{'event': {'category': ['process']}, 'process': {'pid': 2505219495}}]]"
      ]
     },
     "execution_count": null,
     "metadata": {},
     "output_type": "execute_result"
    }
   ],
   "source": [
    "emit('''\n",
    "    process where process.pid > 0\n",
    "''')"
   ]
  },
  {
   "cell_type": "code",
   "execution_count": null,
   "id": "3710dab3",
   "metadata": {},
   "outputs": [
    {
     "data": {
      "text/plain": [
       "[[{'event': {'category': ['process']}, 'process': {'code_signature': {'exists': True}}}]]"
      ]
     },
     "execution_count": null,
     "metadata": {},
     "output_type": "execute_result"
    }
   ],
   "source": [
    "emit('''\n",
    "    process where process.code_signature.exists == true\n",
    "''')"
   ]
  },
  {
   "cell_type": "code",
   "execution_count": null,
   "id": "1c03004d",
   "metadata": {},
   "outputs": [
    {
     "data": {
      "text/plain": [
       "[[{'event': {'category': ['process']}, 'process': {'code_signature': {'exists': False}}}]]"
      ]
     },
     "execution_count": null,
     "metadata": {},
     "output_type": "execute_result"
    }
   ],
   "source": [
    "emit('''\n",
    "    process where process.code_signature.exists != true\n",
    "''')"
   ]
  },
  {
   "cell_type": "code",
   "execution_count": null,
   "id": "661bd327",
   "metadata": {},
   "outputs": [
    {
     "data": {
      "text/plain": [
       "[[{'network': {'protocol': 'some protocol'}}]]"
      ]
     },
     "execution_count": null,
     "metadata": {},
     "output_type": "execute_result"
    }
   ],
   "source": [
    "emit('''\n",
    "    any where network.protocol == \"some protocol\"\n",
    "''')"
   ]
  },
  {
   "cell_type": "code",
   "execution_count": null,
   "id": "19807b56",
   "metadata": {},
   "outputs": [
    {
     "data": {
      "text/plain": [
       "[[{}]]"
      ]
     },
     "execution_count": null,
     "metadata": {},
     "output_type": "execute_result"
    }
   ],
   "source": [
    "emit('''\n",
    "    any where process.pid == null\n",
    "''')"
   ]
  },
  {
   "cell_type": "code",
   "execution_count": null,
   "id": "4306f501",
   "metadata": {},
   "outputs": [
    {
     "data": {
      "text/plain": [
       "[[{}]]"
      ]
     },
     "execution_count": null,
     "metadata": {},
     "output_type": "execute_result"
    }
   ],
   "source": [
    "emit('''\n",
    "    any where not process.pid != null\n",
    "''')"
   ]
  },
  {
   "cell_type": "code",
   "execution_count": null,
   "id": "7e9792d1",
   "metadata": {},
   "outputs": [
    {
     "data": {
      "text/plain": [
       "[[{'process': {'pid': 102799507}}]]"
      ]
     },
     "execution_count": null,
     "metadata": {},
     "output_type": "execute_result"
    }
   ],
   "source": [
    "emit('''\n",
    "    any where process.pid != null\n",
    "''')"
   ]
  },
  {
   "cell_type": "code",
   "execution_count": null,
   "id": "fb65ede5",
   "metadata": {},
   "outputs": [
    {
     "data": {
      "text/plain": [
       "[[{'process': {'pid': 2584819203}}]]"
      ]
     },
     "execution_count": null,
     "metadata": {},
     "output_type": "execute_result"
    }
   ],
   "source": [
    "emit('''\n",
    "    any where not process.pid == null\n",
    "''')"
   ]
  },
  {
   "cell_type": "code",
   "execution_count": null,
   "id": "2e9ea3ed",
   "metadata": {},
   "outputs": [
    {
     "data": {
      "text/plain": [
       "[[{'event': {'category': ['process']}, 'process': {'name': 'regsvr32.exe', 'parent': {'name': 'cmd.exe'}}}]]"
      ]
     },
     "execution_count": null,
     "metadata": {},
     "output_type": "execute_result"
    }
   ],
   "source": [
    "emit('''\n",
    "    process where process.name == \"regsvr32.exe\" and process.parent.name == \"cmd.exe\"\n",
    "''')"
   ]
  },
  {
   "cell_type": "code",
   "execution_count": null,
   "id": "8b9687de",
   "metadata": {},
   "outputs": [
    {
     "data": {
      "text/plain": [
       "[[{'event': {'category': ['process']}, 'process': {'name': 'LeneQZk.EXE'}}]]"
      ]
     },
     "execution_count": null,
     "metadata": {},
     "output_type": "execute_result"
    }
   ],
   "source": [
    "emit('''\n",
    "    process where process.name : (\"*.EXE\", \"*.DLL\")\n",
    "''')"
   ]
  },
  {
   "cell_type": "code",
   "execution_count": null,
   "id": "4c969bba",
   "metadata": {},
   "outputs": [
    {
     "data": {
      "text/plain": [
       "[[{'event': {'category': ['process']}, 'process': {'args': ['CJI']}}]]"
      ]
     },
     "execution_count": null,
     "metadata": {},
     "output_type": "execute_result"
    }
   ],
   "source": [
    "emit('''\n",
    "    process where process.args != null\n",
    "''')"
   ]
  },
  {
   "cell_type": "code",
   "execution_count": null,
   "id": "7c8e2ec4",
   "metadata": {},
   "outputs": [
    {
     "data": {
      "text/plain": [
       "[[{'event': {'category': ['process']}, 'process': {'args': ['-f', '-r']}}]]"
      ]
     },
     "execution_count": null,
     "metadata": {},
     "output_type": "execute_result"
    }
   ],
   "source": [
    "emit('''\n",
    "    process where process.args : \"-f\" and process.args == \"-r\"\n",
    "''')"
   ]
  },
  {
   "cell_type": "code",
   "execution_count": null,
   "id": "0ad16168",
   "metadata": {},
   "outputs": [
    {
     "data": {
      "text/plain": [
       "[[{'event': {'category': ['network']}, 'destination': {'ip': '127.0.0.1'}}]]"
      ]
     },
     "execution_count": null,
     "metadata": {},
     "output_type": "execute_result"
    }
   ],
   "source": [
    "emit('''\n",
    "    network where destination.ip == \"127.0.0.1\"\n",
    "''')"
   ]
  },
  {
   "cell_type": "code",
   "execution_count": null,
   "id": "af0f8260",
   "metadata": {},
   "outputs": [
    {
     "data": {
      "text/plain": [
       "[[{'event': {'category': ['network']}, 'destination': {'ip': '10.77.153.19'}}]]"
      ]
     },
     "execution_count": null,
     "metadata": {},
     "output_type": "execute_result"
    }
   ],
   "source": [
    "emit('''\n",
    "    network where cidrMatch(destination.ip, \"10.0.0.0/8\", \"192.168.0.0/16\")\n",
    "''')"
   ]
  },
  {
   "cell_type": "code",
   "execution_count": null,
   "id": "8d323192",
   "metadata": {},
   "outputs": [
    {
     "data": {
      "text/plain": [
       "[[{'event': {'category': ['network']}, 'destination': {'ip': '0.225.250.37'}}]]"
      ]
     },
     "execution_count": null,
     "metadata": {},
     "output_type": "execute_result"
    }
   ],
   "source": [
    "emit('''\n",
    "    network where not cidrMatch(destination.ip, \"10.0.0.0/8\", \"192.168.0.0/16\")\n",
    "''')"
   ]
  },
  {
   "cell_type": "code",
   "execution_count": null,
   "id": "696c78e4",
   "metadata": {},
   "outputs": [
    {
     "data": {
      "text/plain": [
       "[[{'event': {'category': ['network']}, 'destination': {'ip': '143.174.17.137'}}]]"
      ]
     },
     "execution_count": null,
     "metadata": {},
     "output_type": "execute_result"
    }
   ],
   "source": [
    "emit('''\n",
    "    network where destination.ip != null\n",
    "''')"
   ]
  },
  {
   "cell_type": "code",
   "execution_count": null,
   "id": "7748cf26",
   "metadata": {},
   "outputs": [
    {
     "data": {
      "text/plain": [
       "[[{'event': {'category': ['network']}, 'destination': {'ip': '::1'}}]]"
      ]
     },
     "execution_count": null,
     "metadata": {},
     "output_type": "execute_result"
    }
   ],
   "source": [
    "emit('''\n",
    "    network where destination.ip == \"::1\"\n",
    "''')"
   ]
  },
  {
   "cell_type": "code",
   "execution_count": null,
   "id": "0f12fea1",
   "metadata": {},
   "outputs": [
    {
     "data": {
      "text/plain": [
       "[[{'event': {'category': ['network']}, 'destination': {'ip': '822e:f740:dcc5:503a:946f:261:2c07:f7a5'}}]]"
      ]
     },
     "execution_count": null,
     "metadata": {},
     "output_type": "execute_result"
    }
   ],
   "source": [
    "emit('''\n",
    "    network where destination.ip == \"822e::/16\"\n",
    "''')"
   ]
  },
  {
   "cell_type": "code",
   "execution_count": null,
   "id": "ced1425d",
   "metadata": {},
   "outputs": [
    {
     "data": {
      "text/plain": [
       "[[{'event': {'category': ['network']}, 'destination': {'ip': '822e:f477:4aa3:d9c5:7494:c408:2f13:daeb'}}]]"
      ]
     },
     "execution_count": null,
     "metadata": {},
     "output_type": "execute_result"
    }
   ],
   "source": [
    "emit('''\n",
    "    event.category:network and destination.ip:\"822e::/16\"\n",
    "''')"
   ]
  },
  {
   "cell_type": "code",
   "execution_count": null,
   "id": "4f09211b",
   "metadata": {},
   "outputs": [
    {
     "data": {
      "text/plain": [
       "[[{'event': {'category': ['network']}, 'host': {'ip': ['238.136.72.63']}}]]"
      ]
     },
     "execution_count": null,
     "metadata": {},
     "output_type": "execute_result"
    }
   ],
   "source": [
    "emit('''\n",
    "    network where host.ip != null\n",
    "''')"
   ]
  },
  {
   "cell_type": "code",
   "execution_count": null,
   "id": "28f4d964",
   "metadata": {},
   "outputs": [
    {
     "data": {
      "text/plain": [
       "[[{'event': {'category': ['network']}, 'host': {'ip': ['822e::c0f6:4909']}}]]"
      ]
     },
     "execution_count": null,
     "metadata": {},
     "output_type": "execute_result"
    }
   ],
   "source": [
    "emit('''\n",
    "    event.category:network and host.ip:\"822e::/96\"\n",
    "''')"
   ]
  },
  {
   "cell_type": "markdown",
   "id": "3ecb2936",
   "metadata": {},
   "source": [
    "## Multi-branch mono-document"
   ]
  },
  {
   "cell_type": "markdown",
   "id": "5efd4852",
   "metadata": {},
   "source": [
    "Following queries have one or more disjunctive operators (eg. _or_) which split the query\n",
    "in multiple _branches_. Each branch shall generate a single source event."
   ]
  },
  {
   "cell_type": "code",
   "execution_count": null,
   "id": "a27dd45d",
   "metadata": {},
   "outputs": [
    {
     "data": {
      "text/plain": [
       "[[{'event': {'category': ['network']}, 'source': {'port': 182}}],\n",
       " [{'event': {'category': ['network']}, 'source': {'port': 54422}}]]"
      ]
     },
     "execution_count": null,
     "metadata": {},
     "output_type": "execute_result"
    }
   ],
   "source": [
    "emit('''\n",
    "    network where not (source.port > 512 and source.port < 1024)\n",
    "''')"
   ]
  },
  {
   "cell_type": "code",
   "execution_count": null,
   "id": "fe232dc1",
   "metadata": {},
   "outputs": [
    {
     "data": {
      "text/plain": [
       "[[{'event': {'category': ['network']}, 'source': {'port': 44925}}],\n",
       " [{'event': {'category': ['network']}, 'source': {'port': 516}}]]"
      ]
     },
     "execution_count": null,
     "metadata": {},
     "output_type": "execute_result"
    }
   ],
   "source": [
    "emit('''\n",
    "    network where source.port > 512 or source.port < 1024\n",
    "''')"
   ]
  },
  {
   "cell_type": "code",
   "execution_count": null,
   "id": "418f71de",
   "metadata": {},
   "outputs": [
    {
     "data": {
      "text/plain": [
       "[[{'event': {'category': ['network']}, 'source': {'port': 1334}}],\n",
       " [{'event': {'category': ['network']}, 'source': {'port': 1034}}]]"
      ]
     },
     "execution_count": null,
     "metadata": {},
     "output_type": "execute_result"
    }
   ],
   "source": [
    "emit('''\n",
    "    network where source.port < 2000 and (source.port > 512 or source.port > 1024)\n",
    "''')"
   ]
  },
  {
   "cell_type": "code",
   "execution_count": null,
   "id": "a2651998",
   "metadata": {},
   "outputs": [
    {
     "data": {
      "text/plain": [
       "[[{'event': {'category': ['network']}, 'source': {'port': 575}}],\n",
       " [{'event': {'category': ['network']}, 'source': {'port': 1158}}]]"
      ]
     },
     "execution_count": null,
     "metadata": {},
     "output_type": "execute_result"
    }
   ],
   "source": [
    "emit('''\n",
    "    network where (source.port > 512 or source.port > 1024) and source.port < 2000\n",
    "''')"
   ]
  },
  {
   "cell_type": "code",
   "execution_count": null,
   "id": "7374fe23",
   "metadata": {},
   "outputs": [
    {
     "data": {
      "text/plain": [
       "[[{'event': {'category': ['network']}, 'source': {'port': 1970}}],\n",
       " [{'event': {'category': ['network']}, 'source': {'port': 52226}}],\n",
       " [{'event': {'category': ['network']}, 'source': {'port': 692}}],\n",
       " [{'event': {'category': ['network']}, 'source': {'port': 1464}}]]"
      ]
     },
     "execution_count": null,
     "metadata": {},
     "output_type": "execute_result"
    }
   ],
   "source": [
    "emit('''\n",
    "    network where (source.port > 1024 or source.port < 2000) and (source.port < 4000 or source.port > 512)\n",
    "''')"
   ]
  },
  {
   "cell_type": "code",
   "execution_count": null,
   "id": "26676fb5",
   "metadata": {},
   "outputs": [
    {
     "data": {
      "text/plain": [
       "[[{'event': {'category': ['network']}, 'destination': {'port': 80}}],\n",
       " [{'event': {'category': ['network']}, 'destination': {'port': 443}}]]"
      ]
     },
     "execution_count": null,
     "metadata": {},
     "output_type": "execute_result"
    }
   ],
   "source": [
    "emit('''\n",
    "    network where destination.port in (80, 443)\n",
    "''')"
   ]
  },
  {
   "cell_type": "code",
   "execution_count": null,
   "id": "da2c5806",
   "metadata": {},
   "outputs": [
    {
     "data": {
      "text/plain": [
       "[[{'event': {'category': ['process']}, 'process': {'name': 'regsvr32.exe'}}],\n",
       " [{'event': {'category': ['process']}, 'process': {'parent': {'name': 'cmd.exe'}}}]]"
      ]
     },
     "execution_count": null,
     "metadata": {},
     "output_type": "execute_result"
    }
   ],
   "source": [
    "emit('''\n",
    "    process where process.name == \"regsvr32.exe\" or process.parent.name == \"cmd.exe\"\n",
    "''')"
   ]
  },
  {
   "cell_type": "code",
   "execution_count": null,
   "id": "be7d7a96",
   "metadata": {},
   "outputs": [
    {
     "data": {
      "text/plain": [
       "[[{'event': {'category': ['process']}, 'process': {'name': 'regsvr32.exe'}}],\n",
       " [{'event': {'category': ['process']}, 'process': {'name': 'cmd.exe'}}],\n",
       " [{'event': {'category': ['process']}, 'process': {'name': 'powershell.exe'}}]]"
      ]
     },
     "execution_count": null,
     "metadata": {},
     "output_type": "execute_result"
    }
   ],
   "source": [
    "emit('''\n",
    "    process where process.name == \"regsvr32.exe\" or process.name == \"cmd.exe\" or process.name == \"powershell.exe\"\n",
    "''')"
   ]
  },
  {
   "cell_type": "code",
   "execution_count": null,
   "id": "4ea01e68",
   "metadata": {},
   "outputs": [
    {
     "data": {
      "text/plain": [
       "[[{'event': {'category': ['process']}, 'process': {'name': 'regsvr32.exe'}}],\n",
       " [{'event': {'category': ['process']}, 'process': {'name': 'cmd.exe'}}],\n",
       " [{'event': {'category': ['process']}, 'process': {'name': 'powershell.exe'}}]]"
      ]
     },
     "execution_count": null,
     "metadata": {},
     "output_type": "execute_result"
    }
   ],
   "source": [
    "emit('''\n",
    "    process where process.name in (\"regsvr32.exe\", \"cmd.exe\", \"powershell.exe\")\n",
    "''')"
   ]
  },
  {
   "cell_type": "code",
   "execution_count": null,
   "id": "23a75aa8",
   "metadata": {},
   "outputs": [
    {
     "data": {
      "text/plain": [
       "[[{'event': {'category': ['process']}, 'process': {'name': 'regsvr32.exe'}}],\n",
       " [{'event': {'category': ['process']}, 'process': {'name': 'cmd.exe'}}],\n",
       " [{'event': {'category': ['process']}, 'process': {'name': 'powershell.exe'}}]]"
      ]
     },
     "execution_count": null,
     "metadata": {},
     "output_type": "execute_result"
    }
   ],
   "source": [
    "emit('''\n",
    "    process where process.name in (\"regsvr32.exe\", \"cmd.exe\") or process.name == \"powershell.exe\"\n",
    "''')"
   ]
  },
  {
   "cell_type": "code",
   "execution_count": null,
   "id": "d8fadc88",
   "metadata": {},
   "outputs": [
    {
     "data": {
      "text/plain": [
       "[[{'event': {'category': ['process'], 'type': ['start']}, 'process': {'args': ['dump-keychain', '-d']}}],\n",
       " [{'event': {'category': ['process'], 'type': ['process_started']}, 'process': {'args': ['dump-keychain', '-d']}}]]"
      ]
     },
     "execution_count": null,
     "metadata": {},
     "output_type": "execute_result"
    }
   ],
   "source": [
    "emit('''\n",
    "    process where event.type in (\"start\", \"process_started\") and process.args : \"dump-keychain\" and process.args : \"-d\"\n",
    "''')"
   ]
  },
  {
   "cell_type": "code",
   "execution_count": null,
   "id": "7fa24f86",
   "metadata": {},
   "outputs": [
    {
     "data": {
      "text/plain": [
       "[[{'event': {'type': ['start']}, 'process': {'args': ['dump-keychain', '-d']}}],\n",
       " [{'event': {'type': ['process_started']}, 'process': {'args': ['dump-keychain', '-d']}}]]"
      ]
     },
     "execution_count": null,
     "metadata": {},
     "output_type": "execute_result"
    }
   ],
   "source": [
    "emit('''\n",
    "    event.type:(start or process_started) and (process.args:\"dump-keychain\" and process.args:\"-d\")\n",
    "''')"
   ]
  },
  {
   "cell_type": "markdown",
   "id": "6a096b35",
   "metadata": {},
   "source": [
    "## Mono-branch multi-document"
   ]
  },
  {
   "cell_type": "markdown",
   "id": "7c7b218a",
   "metadata": {},
   "source": [
    "Following queries instead require multiple related source events, it's not analyzed only each\n",
    "event content but also the relation with each others. Therefore a senquence of documents is generated\n",
    "each time and all the documents in the sequence are required for one signal to be generated."
   ]
  },
  {
   "cell_type": "code",
   "execution_count": null,
   "id": "a0aeecef",
   "metadata": {},
   "outputs": [
    {
     "data": {
      "text/plain": [
       "[[{'event': {'category': ['process']}, 'process': {'name': 'cmd.exe'}},\n",
       "  {'event': {'category': ['process']}, 'process': {'parent': {'name': 'cmd.exe'}}}]]"
      ]
     },
     "execution_count": null,
     "metadata": {},
     "output_type": "execute_result"
    }
   ],
   "source": [
    "emit('''\n",
    "    sequence\n",
    "        [process where process.name : \"cmd.exe\"]\n",
    "        [process where process.parent.name : \"cmd.exe\"]\n",
    "''')"
   ]
  },
  {
   "cell_type": "code",
   "execution_count": null,
   "id": "cf9c60d9",
   "metadata": {},
   "outputs": [
    {
     "data": {
      "text/plain": [
       "[[{'event': {'category': ['process']}, 'process': {'name': 'cmd.exe'}, 'user': {'id': 'klM'}},\n",
       "  {'event': {'category': ['process']}, 'process': {'parent': {'name': 'cmd.exe'}}, 'user': {'id': 'klM'}}]]"
      ]
     },
     "execution_count": null,
     "metadata": {},
     "output_type": "execute_result"
    }
   ],
   "source": [
    "emit('''\n",
    "    sequence by user.id\n",
    "        [process where process.name : \"cmd.exe\"]\n",
    "        [process where process.parent.name : \"cmd.exe\"]\n",
    "''')"
   ]
  },
  {
   "cell_type": "code",
   "execution_count": null,
   "id": "6910353d",
   "metadata": {},
   "outputs": [
    {
     "data": {
      "text/plain": [
       "[[{'event': {'category': ['process']}, 'process': {'name': 'cmd.exe'}, 'user': {'id': 'fmC'}},\n",
       "  {'event': {'category': ['process']}, 'process': {'parent': {'name': 'cmd.exe'}}, 'user': {'name': 'fmC'}}]]"
      ]
     },
     "execution_count": null,
     "metadata": {},
     "output_type": "execute_result"
    }
   ],
   "source": [
    "emit('''\n",
    "    sequence\n",
    "        [process where process.name : \"cmd.exe\"] by user.id\n",
    "        [process where process.parent.name : \"cmd.exe\"] by user.name\n",
    "''')"
   ]
  },
  {
   "cell_type": "markdown",
   "id": "fb0408cd",
   "metadata": {},
   "source": [
    "## Multi-branch multi-document"
   ]
  },
  {
   "cell_type": "markdown",
   "id": "62f8b4bf",
   "metadata": {},
   "source": [
    "Same as above but one or more queries in the sequence have a disjunction (eg. _or_ operator) therefore\n",
    "multiple sequences shall be generated."
   ]
  },
  {
   "cell_type": "code",
   "execution_count": null,
   "id": "c15b2575",
   "metadata": {},
   "outputs": [
    {
     "data": {
      "text/plain": [
       "[[{'event': {'category': ['process']}, 'process': {'name': 'cmd.exe'}},\n",
       "  {'event': {'category': ['process']}, 'process': {'parent': {'name': 'cmd.exe'}}}],\n",
       " [{'event': {'category': ['process']}, 'process': {'name': 'cmd.exe'}},\n",
       "  {'event': {'category': ['process']}, 'process': {'name': 'powershell.exe'}}]]"
      ]
     },
     "execution_count": null,
     "metadata": {},
     "output_type": "execute_result"
    }
   ],
   "source": [
    "emit('''\n",
    "    sequence\n",
    "        [process where process.name : \"cmd.exe\"]\n",
    "        [process where process.parent.name : \"cmd.exe\" or process.name : \"powershell.exe\"]\n",
    "''')"
   ]
  },
  {
   "cell_type": "code",
   "execution_count": null,
   "id": "a4b9fb3b",
   "metadata": {},
   "outputs": [
    {
     "data": {
      "text/plain": [
       "[[{'event': {'category': ['process']}, 'process': {'name': 'cmd.exe'}, 'user': {'id': 'pKP'}},\n",
       "  {'event': {'category': ['process']}, 'process': {'parent': {'name': 'cmd.exe'}}, 'user': {'id': 'pKP'}}],\n",
       " [{'event': {'category': ['process']}, 'process': {'name': 'cmd.exe'}, 'user': {'id': 'dYR'}},\n",
       "  {'event': {'category': ['process']}, 'process': {'name': 'powershell.exe'}, 'user': {'id': 'dYR'}}]]"
      ]
     },
     "execution_count": null,
     "metadata": {},
     "output_type": "execute_result"
    }
   ],
   "source": [
    "emit('''\n",
    "    sequence by user.id\n",
    "        [process where process.name : \"cmd.exe\"]\n",
    "        [process where process.parent.name : \"cmd.exe\" or process.name : \"powershell.exe\"]\n",
    "''')"
   ]
  },
  {
   "cell_type": "code",
   "execution_count": null,
   "id": "a4f0faa8",
   "metadata": {},
   "outputs": [
    {
     "data": {
      "text/plain": [
       "[[{'event': {'category': ['process']}, 'process': {'name': 'cmd.exe'}},\n",
       "  {'event': {'category': ['process']}, 'process': {'name': 'cmd.exe', 'parent': {'name': 'cmd.exe'}}}],\n",
       " [{'event': {'category': ['process']}, 'process': {'name': 'cmd.exe'}},\n",
       "  {'event': {'category': ['process']}, 'process': {'name': 'powershell.exe', 'parent': {'name': 'cmd.exe'}}}],\n",
       " [{'event': {'category': ['process']}, 'process': {'name': 'powershell.exe'}},\n",
       "  {'event': {'category': ['process']}, 'process': {'name': 'cmd.exe', 'parent': {'name': 'powershell.exe'}}}],\n",
       " [{'event': {'category': ['process']}, 'process': {'name': 'powershell.exe'}},\n",
       "  {'event': {'category': ['process']}, 'process': {'name': 'powershell.exe', 'parent': {'name': 'powershell.exe'}}}]]"
      ]
     },
     "execution_count": null,
     "metadata": {},
     "output_type": "execute_result"
    }
   ],
   "source": [
    "emit('''\n",
    "    sequence\n",
    "        [process where process.name in (\"cmd.exe\", \"powershell.exe\")] by process.name\n",
    "        [process where process.name in (\"cmd.exe\", \"powershell.exe\")] by process.parent.name\n",
    "''')"
   ]
  },
  {
   "cell_type": "code",
   "execution_count": null,
   "id": "7626b7b9",
   "metadata": {},
   "outputs": [
    {
     "data": {
      "text/plain": [
       "[[{'event': {'category': ['process']}, 'process': {'name': 'cmd.exe'}, 'user': {'id': 'aPd'}},\n",
       "  {'event': {'category': ['process']}, 'process': {'name': 'cmd.exe', 'parent': {'name': 'cmd.exe'}}, 'user': {'id': 'aPd'}}],\n",
       " [{'event': {'category': ['process']}, 'process': {'name': 'cmd.exe'}, 'user': {'id': 'aiW'}},\n",
       "  {'event': {'category': ['process']}, 'process': {'name': 'powershell.exe', 'parent': {'name': 'cmd.exe'}}, 'user': {'id': 'aiW'}}],\n",
       " [{'event': {'category': ['process']}, 'process': {'name': 'powershell.exe'}, 'user': {'id': 'tSw'}},\n",
       "  {'event': {'category': ['process']}, 'process': {'name': 'cmd.exe', 'parent': {'name': 'powershell.exe'}}, 'user': {'id': 'tSw'}}],\n",
       " [{'event': {'category': ['process']}, 'process': {'name': 'powershell.exe'}, 'user': {'id': 'JEL'}},\n",
       "  {'event': {'category': ['process']}, 'process': {'name': 'powershell.exe', 'parent': {'name': 'powershell.exe'}}, 'user': {'id': 'JEL'}}]]"
      ]
     },
     "execution_count": null,
     "metadata": {},
     "output_type": "execute_result"
    }
   ],
   "source": [
    "emit('''\n",
    "    sequence by user.id\n",
    "        [process where process.name in (\"cmd.exe\", \"powershell.exe\")] by process.name\n",
    "        [process where process.name in (\"cmd.exe\", \"powershell.exe\")] by process.parent.name\n",
    "''')"
   ]
  },
  {
   "cell_type": "markdown",
   "id": "1729f9dc",
   "metadata": {},
   "source": [
    "## Error conditions"
   ]
  },
  {
   "cell_type": "markdown",
   "id": "f633b247",
   "metadata": {},
   "source": [
    "Not all the queries make sense, no documents can be generated for those that cannot logically be ever\n",
    "matched. In such cases an error is reported, as the following cells show.\n",
    "\n",
    "Here you can challenge the generation engine first hand and check that all the due errors are reported\n",
    "and make sense to you."
   ]
  },
  {
   "cell_type": "code",
   "execution_count": null,
   "id": "8f94ee9a",
   "metadata": {},
   "outputs": [
    {
     "name": "stdout",
     "output_type": "stream",
     "text": [
      "Root without branches"
     ]
    }
   ],
   "source": [
    "emit('''\n",
    "    any where false\n",
    "''')"
   ]
  },
  {
   "cell_type": "code",
   "execution_count": null,
   "id": "5d93b0c4",
   "metadata": {},
   "outputs": [
    {
     "name": "stdout",
     "output_type": "stream",
     "text": [
      "Root without branches"
     ]
    }
   ],
   "source": [
    "emit('''\n",
    "    any where not true\n",
    "''')"
   ]
  },
  {
   "cell_type": "code",
   "execution_count": null,
   "id": "1a559f8d",
   "metadata": {},
   "outputs": [
    {
     "name": "stdout",
     "output_type": "stream",
     "text": [
      "Root without branches"
     ]
    }
   ],
   "source": [
    "emit('''\n",
    "    any where not (true and true)\n",
    "''')"
   ]
  },
  {
   "cell_type": "code",
   "execution_count": null,
   "id": "f2efce5e",
   "metadata": {},
   "outputs": [
    {
     "name": "stdout",
     "output_type": "stream",
     "text": [
      "Root without branches"
     ]
    }
   ],
   "source": [
    "emit('''\n",
    "    any where not (true or false)\n",
    "''')"
   ]
  },
  {
   "cell_type": "code",
   "execution_count": null,
   "id": "b91c94e5",
   "metadata": {},
   "outputs": [
    {
     "name": "stdout",
     "output_type": "stream",
     "text": [
      "Unsolvable constraints: process.pid (cannot be non-null)"
     ]
    }
   ],
   "source": [
    "emit('''\n",
    "    any where process.pid == null and process.pid != null\n",
    "''')"
   ]
  },
  {
   "cell_type": "code",
   "execution_count": null,
   "id": "96509964",
   "metadata": {},
   "outputs": [
    {
     "name": "stdout",
     "output_type": "stream",
     "text": [
      "Unsolvable constraints: process.pid (cannot be null)"
     ]
    }
   ],
   "source": [
    "emit('''\n",
    "    any where process.pid > 0 and process.pid == null\n",
    "''')"
   ]
  },
  {
   "cell_type": "code",
   "execution_count": null,
   "id": "ef0613f5",
   "metadata": {},
   "outputs": [
    {
     "name": "stdout",
     "output_type": "stream",
     "text": [
      "Unsolvable constraints: process.name (cannot be null)"
     ]
    }
   ],
   "source": [
    "emit('''\n",
    "    any where process.name != null and process.name == null\n",
    "''')"
   ]
  },
  {
   "cell_type": "code",
   "execution_count": null,
   "id": "dc8ebb78",
   "metadata": {},
   "outputs": [
    {
     "name": "stdout",
     "output_type": "stream",
     "text": [
      "Unsolvable constraints: process.name (cannot be null)"
     ]
    }
   ],
   "source": [
    "emit('''\n",
    "    any where process.name == \"cmd.exe\" and process.name == null\n",
    "''')"
   ]
  },
  {
   "cell_type": "code",
   "execution_count": null,
   "id": "cd6fa5f8",
   "metadata": {},
   "outputs": [
    {
     "name": "stdout",
     "output_type": "stream",
     "text": [
      "Unsolvable constraints: process.pid (out of boundary, 1 <= 0 <= 4294967295)"
     ]
    }
   ],
   "source": [
    "emit('''\n",
    "    process where process.pid == 0\n",
    "''')"
   ]
  },
  {
   "cell_type": "code",
   "execution_count": null,
   "id": "98bd8880",
   "metadata": {},
   "outputs": [
    {
     "name": "stdout",
     "output_type": "stream",
     "text": [
      "Unsolvable constraints: process.pid (empty solution space, 1 <= x <= 0)"
     ]
    }
   ],
   "source": [
    "emit('''\n",
    "    process where process.pid <= 0\n",
    "''')"
   ]
  },
  {
   "cell_type": "code",
   "execution_count": null,
   "id": "50cbaaa9",
   "metadata": {},
   "outputs": [
    {
     "name": "stdout",
     "output_type": "stream",
     "text": [
      "Unsolvable constraints: process.pid (empty solution space, 1 <= x <= -1)"
     ]
    }
   ],
   "source": [
    "emit('''\n",
    "    process where process.pid < 0\n",
    "''')"
   ]
  },
  {
   "cell_type": "code",
   "execution_count": null,
   "id": "e1e34819",
   "metadata": {},
   "outputs": [
    {
     "name": "stdout",
     "output_type": "stream",
     "text": [
      "Unsolvable constraints ==: network.protocol (is already 'http', cannot set to 'https')"
     ]
    }
   ],
   "source": [
    "emit('''\n",
    "    any where network.protocol == \"http\" and network.protocol == \"https\"\n",
    "''')"
   ]
  },
  {
   "cell_type": "code",
   "execution_count": null,
   "id": "7ef340a6",
   "metadata": {},
   "outputs": [
    {
     "name": "stdout",
     "output_type": "stream",
     "text": [
      "Root without branches"
     ]
    }
   ],
   "source": [
    "emit('''\n",
    "    network where destination.port == 22 and destination.port in (80, 443)\n",
    "''')"
   ]
  },
  {
   "cell_type": "code",
   "execution_count": null,
   "id": "aefada5c",
   "metadata": {},
   "outputs": [
    {
     "name": "stdout",
     "output_type": "stream",
     "text": [
      "Unsolvable constraints: source.port (empty solution space, 1024 <= x <= 512)"
     ]
    }
   ],
   "source": [
    "emit('''\n",
    "    network where not (source.port > 512 or source.port < 1024)\n",
    "''')"
   ]
  },
  {
   "cell_type": "code",
   "execution_count": null,
   "id": "e9aabcaf",
   "metadata": {},
   "outputs": [
    {
     "name": "stdout",
     "output_type": "stream",
     "text": [
      "Unsolvable constraints ==: process.name (is already 'powershell.exe', cannot set to 'cmd.exe')"
     ]
    }
   ],
   "source": [
    "emit('''\n",
    "    sequence by process.name\n",
    "        [process where process.name : \"cmd.exe\"]\n",
    "        [process where process.name : \"powershell.exe\"]\n",
    "''')"
   ]
  },
  {
   "cell_type": "code",
   "execution_count": null,
   "id": "b0583287",
   "metadata": {},
   "outputs": [
    {
     "name": "stdout",
     "output_type": "stream",
     "text": [
      "Unsolvable constraints ==: process.parent.name (is already 'powershell.exe', cannot set to 'cmd.exe')"
     ]
    }
   ],
   "source": [
    "emit('''\n",
    "    sequence\n",
    "        [process where process.name : \"cmd.exe\"] by process.name\n",
    "        [process where process.parent.name : \"powershell.exe\"] by process.parent.name\n",
    "''')"
   ]
  },
  {
   "cell_type": "code",
   "execution_count": null,
   "id": "761d5d6f",
   "metadata": {},
   "outputs": [
    {
     "name": "stdout",
     "output_type": "stream",
     "text": [
      "Unsolvable constraints: process.name (cannot be non-null)"
     ]
    }
   ],
   "source": [
    "emit('''\n",
    "    sequence by process.name\n",
    "        [process where process.name == null]\n",
    "        [process where process.name : \"powershell.exe\"]\n",
    "''')"
   ]
  },
  {
   "cell_type": "markdown",
   "id": "c1cf27d7",
   "metadata": {},
   "source": [
    "## Cardinality"
   ]
  },
  {
   "cell_type": "markdown",
   "id": "65e8daa4",
   "metadata": {},
   "source": [
    "Cardinality constraints set an upper bound to the number of different values generated for a given field."
   ]
  },
  {
   "cell_type": "code",
   "execution_count": null,
   "id": "942e4006",
   "metadata": {},
   "outputs": [
    {
     "data": {
      "text/plain": [
       "[[{'event': {'category': ['process']}, 'process': {'pid': 35}}],\n",
       " [{'event': {'category': ['process']}, 'process': {'pid': 64}}],\n",
       " [{'event': {'category': ['process']}, 'process': {'pid': 30}}],\n",
       " [{'event': {'category': ['process']}, 'process': {'pid': 99}}],\n",
       " [{'event': {'category': ['process']}, 'process': {'pid': 85}}],\n",
       " [{'event': {'category': ['process']}, 'process': {'pid': 42}}],\n",
       " [{'event': {'category': ['process']}, 'process': {'pid': 95}}]]"
      ]
     },
     "execution_count": null,
     "metadata": {},
     "output_type": "execute_result"
    }
   ],
   "source": [
    "emit('''\n",
    "    process where process.pid > 0 and process.pid < 100 and _cardinality(process.pid, 0)\n",
    "''', count=7)"
   ]
  },
  {
   "cell_type": "code",
   "execution_count": null,
   "id": "516e7809",
   "metadata": {},
   "outputs": [
    {
     "data": {
      "text/plain": [
       "[[{'event': {'category': ['process']}, 'process': {'pid': 38}}],\n",
       " [{'event': {'category': ['process']}, 'process': {'pid': 38}}],\n",
       " [{'event': {'category': ['process']}, 'process': {'pid': 38}}],\n",
       " [{'event': {'category': ['process']}, 'process': {'pid': 38}}],\n",
       " [{'event': {'category': ['process']}, 'process': {'pid': 38}}],\n",
       " [{'event': {'category': ['process']}, 'process': {'pid': 38}}],\n",
       " [{'event': {'category': ['process']}, 'process': {'pid': 38}}]]"
      ]
     },
     "execution_count": null,
     "metadata": {},
     "output_type": "execute_result"
    }
   ],
   "source": [
    "emit('''\n",
    "    process where process.pid > 0 and process.pid < 100 and _cardinality(process.pid, 1)\n",
    "''', count=7)"
   ]
  },
  {
   "cell_type": "code",
   "execution_count": null,
   "id": "9168d258",
   "metadata": {},
   "outputs": [
    {
     "data": {
      "text/plain": [
       "[[{'event': {'category': ['process']}, 'process': {'pid': 38}}],\n",
       " [{'event': {'category': ['process']}, 'process': {'pid': 38}}],\n",
       " [{'event': {'category': ['process']}, 'process': {'pid': 38}}],\n",
       " [{'event': {'category': ['process']}, 'process': {'pid': 87}}],\n",
       " [{'event': {'category': ['process']}, 'process': {'pid': 87}}],\n",
       " [{'event': {'category': ['process']}, 'process': {'pid': 38}}],\n",
       " [{'event': {'category': ['process']}, 'process': {'pid': 38}}],\n",
       " [{'event': {'category': ['process']}, 'process': {'pid': 38}}]]"
      ]
     },
     "execution_count": null,
     "metadata": {},
     "output_type": "execute_result"
    }
   ],
   "source": [
    "emit('''\n",
    "    process where process.pid > 0 and process.pid < 100 and _cardinality(process.pid, 2)\n",
    "''', count=8)"
   ]
  },
  {
   "cell_type": "code",
   "execution_count": null,
   "id": "01ed839c",
   "metadata": {},
   "outputs": [
    {
     "data": {
      "text/plain": [
       "[[{'event': {'category': ['network']}, 'source': {'ip': '10.0.0.99'}}],\n",
       " [{'event': {'category': ['network']}, 'source': {'ip': '10.0.0.99'}}],\n",
       " [{'event': {'category': ['network']}, 'source': {'ip': '10.0.0.214'}}],\n",
       " [{'event': {'category': ['network']}, 'source': {'ip': '10.0.0.99'}}],\n",
       " [{'event': {'category': ['network']}, 'source': {'ip': '10.0.0.214'}}],\n",
       " [{'event': {'category': ['network']}, 'source': {'ip': '10.0.0.99'}}],\n",
       " [{'event': {'category': ['network']}, 'source': {'ip': '10.0.0.214'}}]]"
      ]
     },
     "execution_count": null,
     "metadata": {},
     "output_type": "execute_result"
    }
   ],
   "source": [
    "emit('''\n",
    "    network where source.ip == \"10.0.0.0/24\" and _cardinality(source.ip, 2)\n",
    "''', count=7)"
   ]
  },
  {
   "cell_type": "code",
   "execution_count": null,
   "id": "bb1ddb74",
   "metadata": {},
   "outputs": [
    {
     "data": {
      "text/plain": [
       "[[{'event': {'category': ['network']}, 'destination': {'ip': '1::1cf0'}}],\n",
       " [{'event': {'category': ['network']}, 'destination': {'ip': '1::f14'}}],\n",
       " [{'event': {'category': ['network']}, 'destination': {'ip': '1::f09b'}}],\n",
       " [{'event': {'category': ['network']}, 'destination': {'ip': '1::1cf0'}}],\n",
       " [{'event': {'category': ['network']}, 'destination': {'ip': '1::f09b'}}],\n",
       " [{'event': {'category': ['network']}, 'destination': {'ip': '1::1cf0'}}],\n",
       " [{'event': {'category': ['network']}, 'destination': {'ip': '1::1cf0'}}]]"
      ]
     },
     "execution_count": null,
     "metadata": {},
     "output_type": "execute_result"
    }
   ],
   "source": [
    "emit('''\n",
    "    network where destination.ip == \"1::/112\" and _cardinality(destination.ip, 3)\n",
    "''', count=7)"
   ]
  },
  {
   "cell_type": "code",
   "execution_count": null,
   "id": "aca84718",
   "metadata": {},
   "outputs": [
    {
     "data": {
      "text/plain": [
       "[[{'event': {'category': ['process']}, 'process': {'name': 'tQY'}}],\n",
       " [{'event': {'category': ['process']}, 'process': {'name': 'FmB'}}],\n",
       " [{'event': {'category': ['process']}, 'process': {'name': 'Iwi'}}],\n",
       " [{'event': {'category': ['process']}, 'process': {'name': 'Iwi'}}],\n",
       " [{'event': {'category': ['process']}, 'process': {'name': 'FmB'}}],\n",
       " [{'event': {'category': ['process']}, 'process': {'name': 'tQY'}}],\n",
       " [{'event': {'category': ['process']}, 'process': {'name': 'tQY'}}]]"
      ]
     },
     "execution_count": null,
     "metadata": {},
     "output_type": "execute_result"
    }
   ],
   "source": [
    "emit('''\n",
    "    process where _cardinality(process.name, 3)\n",
    "''', count=7)"
   ]
  },
  {
   "cell_type": "code",
   "execution_count": null,
   "id": "45c58ba2",
   "metadata": {},
   "outputs": [
    {
     "data": {
      "text/plain": [
       "[[{'event': {'category': ['network']}, 'destination': {'ip': '1::f09b', 'port': 22}}],\n",
       " [{'event': {'category': ['network']}, 'destination': {'ip': '1::f09b', 'port': 443}}],\n",
       " [{'event': {'category': ['network']}, 'destination': {'ip': '1::f09b', 'port': 22}}],\n",
       " [{'event': {'category': ['network']}, 'destination': {'ip': '1::f09b', 'port': 443}}]]"
      ]
     },
     "execution_count": null,
     "metadata": {},
     "output_type": "execute_result"
    }
   ],
   "source": [
    "emit('''\n",
    "    network where destination.port in (22, 443) and _cardinality(destination.ip, 1)\n",
    "''', count=4)"
   ]
  },
  {
   "cell_type": "code",
   "execution_count": null,
   "id": "833598c7",
   "metadata": {},
   "outputs": [
    {
     "data": {
      "text/plain": [
       "[[{'event': {'category': ['network']}, 'destination': {'ip': '1::1cf0', 'port': 22}}],\n",
       " [{'event': {'category': ['network']}, 'destination': {'ip': '1::1cf0', 'port': 443}}],\n",
       " [{'event': {'category': ['network']}, 'destination': {'ip': '1::1cf0', 'port': 22}}],\n",
       " [{'event': {'category': ['network']}, 'destination': {'ip': '1::f09b', 'port': 443}}],\n",
       " [{'event': {'category': ['network']}, 'destination': {'ip': '1::f09b', 'port': 22}}],\n",
       " [{'event': {'category': ['network']}, 'destination': {'ip': '1::1cf0', 'port': 443}}],\n",
       " [{'event': {'category': ['network']}, 'destination': {'ip': '1::1cf0', 'port': 22}}],\n",
       " [{'event': {'category': ['network']}, 'destination': {'ip': '1::1cf0', 'port': 443}}],\n",
       " [{'event': {'category': ['network']}, 'destination': {'ip': '1::f09b', 'port': 22}}],\n",
       " [{'event': {'category': ['network']}, 'destination': {'ip': '1::1cf0', 'port': 443}}]]"
      ]
     },
     "execution_count": null,
     "metadata": {},
     "output_type": "execute_result"
    }
   ],
   "source": [
    "emit('''\n",
    "    network where destination.port in (22, 443) and _cardinality(destination.ip, 2)\n",
    "''', count=10)"
   ]
  },
  {
   "cell_type": "code",
   "execution_count": null,
   "id": "995925a8",
   "metadata": {},
   "outputs": [
    {
     "data": {
      "text/plain": [
       "[[{'event': {'category': ['network']}, 'destination': {'ip': '1::1cf0', 'port': 22}}],\n",
       " [{'event': {'category': ['network']}, 'destination': {'ip': '1::f14', 'port': 443}}],\n",
       " [{'event': {'category': ['network']}, 'destination': {'ip': '1::f14', 'port': 22}}],\n",
       " [{'event': {'category': ['network']}, 'destination': {'ip': '1::f14', 'port': 443}}],\n",
       " [{'event': {'category': ['network']}, 'destination': {'ip': '1::f09b', 'port': 22}}],\n",
       " [{'event': {'category': ['network']}, 'destination': {'ip': '1::1cf0', 'port': 443}}],\n",
       " [{'event': {'category': ['network']}, 'destination': {'ip': '1::f09b', 'port': 22}}],\n",
       " [{'event': {'category': ['network']}, 'destination': {'ip': '1::f14', 'port': 443}}],\n",
       " [{'event': {'category': ['network']}, 'destination': {'ip': '1::1cf0', 'port': 22}}],\n",
       " [{'event': {'category': ['network']}, 'destination': {'ip': '1::f09b', 'port': 443}}],\n",
       " [{'event': {'category': ['network']}, 'destination': {'ip': '1::f14', 'port': 22}}],\n",
       " [{'event': {'category': ['network']}, 'destination': {'ip': '1::f14', 'port': 443}}]]"
      ]
     },
     "execution_count": null,
     "metadata": {},
     "output_type": "execute_result"
    }
   ],
   "source": [
    "emit('''\n",
    "    network where destination.port in (22, 443) and _cardinality(destination.ip, 3)\n",
    "''', count=12)"
   ]
  },
  {
   "cell_type": "code",
   "execution_count": null,
   "id": "3c7a3d01",
   "metadata": {},
   "outputs": [
    {
     "data": {
      "text/plain": [
       "[[{'event': {'category': ['network']}, 'destination': {'ip': '1::f09b', 'port': 265}},\n",
       "  {'event': {'category': ['network']}, 'source': {'ip': '1::f09b', 'port': 265}, 'destination': {'ip': '1::1cf0', 'port': 22623}}],\n",
       " [{'event': {'category': ['network']}, 'destination': {'ip': '1::f09b', 'port': 691}},\n",
       "  {'event': {'category': ['network']}, 'source': {'ip': '1::f09b', 'port': 691}, 'destination': {'ip': '1::1cf0', 'port': 57576}}],\n",
       " [{'event': {'category': ['network']}, 'destination': {'ip': '1::f09b', 'port': 173}},\n",
       "  {'event': {'category': ['network']}, 'source': {'ip': '1::f09b', 'port': 173}, 'destination': {'ip': '1::1cf0', 'port': 3897}}],\n",
       " [{'event': {'category': ['network']}, 'destination': {'ip': '1::f09b', 'port': 685}},\n",
       "  {'event': {'category': ['network']}, 'source': {'ip': '1::f09b', 'port': 685}, 'destination': {'ip': '1::f09b', 'port': 58442}}],\n",
       " [{'event': {'category': ['network']}, 'destination': {'ip': '1::f09b', 'port': 929}},\n",
       "  {'event': {'category': ['network']}, 'source': {'ip': '1::f09b', 'port': 929}, 'destination': {'ip': '1::1cf0', 'port': 54423}}]]"
      ]
     },
     "execution_count": null,
     "metadata": {},
     "output_type": "execute_result"
    }
   ],
   "source": [
    "emit('''\n",
    "    sequence\n",
    "            [network where _cardinality(destination.ip, 1) and destination.port < 1024] by destination.ip, destination.port\n",
    "            [network where _cardinality(destination.ip, 2) and destination.port > 1024] by source.ip, source.port\n",
    "''', count=5)"
   ]
  },
  {
   "cell_type": "markdown",
   "id": "5090731a",
   "metadata": {},
   "source": [
    "## Any oddities?"
   ]
  },
  {
   "cell_type": "markdown",
   "id": "c3fb7b7a",
   "metadata": {},
   "source": [
    "Did you find anything odd reviewing the report or playing with the documents emitter?\n",
    "We are interested to know, feel free to [create an issue](https://github.com/elastic/geneve/issues/new)."
   ]
  }
 ],
 "metadata": {
  "language_info": {
   "file_extension": ".py",
   "mimetype": "text/x-python",
   "name": "python"
  }
 },
 "nbformat": 4,
 "nbformat_minor": 5
}
